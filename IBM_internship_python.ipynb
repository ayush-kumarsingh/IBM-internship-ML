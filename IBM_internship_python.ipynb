{
 "cells": [
  {
   "cell_type": "code",
   "execution_count": 1,
   "id": "58775f07",
   "metadata": {},
   "outputs": [
    {
     "name": "stdout",
     "output_type": "stream",
     "text": [
      "some of the raw data is as follows  ---->\n",
      "   YearsExperience   Salary\n",
      "0              1.1  39343.0\n",
      "1              1.3  46205.0\n",
      "2              1.5  37731.0\n",
      "3              2.0  43525.0\n",
      "4              2.2  39891.0\n",
      "\n",
      "\n",
      "\n",
      "the accuracy in the predicted value is ----->\n",
      "the predicted value after training and testing is = 0.7616681465472094\n",
      "\n",
      "\n",
      "\n",
      "the graph showing the summary is as follows-->\n"
     ]
    },
    {
     "data": {
      "image/png": "[encoded data removed]",
      "text/plain": [
       "<Figure size 432x288 with 1 Axes>"
      ]
     },
     "metadata": {
      "needs_background": "light"
     },
     "output_type": "display_data"
    }
   ],
   "source": [
    "#importing necessary files\n",
    "\n",
    "import pandas as pd                                            #importing to read csv file\n",
    "from sklearn.model_selection import train_test_split                #importing to build train_test model \n",
    "from sklearn.linear_model import LinearRegression                #importing to include linear regresion\n",
    "import matplotlib.pyplot as plt                                 #importing to plot the model in form of graph\n",
    "from sklearn.metrics import r2_score                           #importing to view the prediction accuracy\n",
    "\n",
    "\n",
    "\n",
    "\n",
    "\n",
    "#reading the data from csv file \n",
    "\n",
    "dataset = pd.read_csv('salary_data.csv')\n",
    "\n",
    "\n",
    "\n",
    "\n",
    "#taking y as a dependable variable --->salary\n",
    "y=dataset.iloc[:,1]\n",
    "\n",
    "\n",
    "\n",
    "#taking x as an independable variable---->Years of Experience\n",
    "x=dataset.iloc[:,0:1]\n",
    "\n",
    "\n",
    "#building model\n",
    "x_train,x_test,y_train,y_test=train_test_split(x,y,test_size=0.20,random_state=1)\n",
    "l_r=LinearRegression()                                          #creating object of LinearRegression\n",
    "l_r.fit(x_train,y_train)\n",
    "\n",
    "\n",
    "\n",
    "\n",
    "#predicting the score\n",
    "y_predicted=l_r.predict(x_test)\n",
    "predictedScore=r2_score(y_test,y_predicted)\n",
    "\n",
    "\n",
    "\n",
    "#plotting the graph\n",
    "plt.scatter(x_train,y_train,color='green',label='real')\n",
    "plt.plot(x_test,y_predicted,color='blue',label='predicted')\n",
    "plt.legend(framealpha=1,frameon=True)\n",
    "plt.title('salary vs years of experience')\n",
    "plt.xlabel('YearsExperience')\n",
    "plt.ylabel('Salary')\n",
    "\n",
    "\n",
    "\n",
    "\n",
    "\n",
    "\n",
    "#printing the output ----->\n",
    "print ('some of the raw data is as follows  ---->')\n",
    "print (dataset.head())\n",
    "print ()\n",
    "print()\n",
    "print()\n",
    "print('the accuracy in the predicted value is ----->')\n",
    "print ('the predicted value after training and testing is =',predictedScore)\n",
    "print()\n",
    "print()\n",
    "print()\n",
    "print(\"the graph showing the summary is as follows-->\")\n",
    "plt.show()\n",
    "\n",
    "\n"
   ]
  },
  {
   "cell_type": "code",
   "execution_count": null,
   "id": "a4a56cb5",
   "metadata": {},
   "outputs": [],
   "source": []
  }
 ],
 "metadata": {
  "kernelspec": {
   "display_name": "Python 3",
   "language": "python",
   "name": "python3"
  },
  "language_info": {
   "codemirror_mode": {
    "name": "ipython",
    "version": 3
   },
   "file_extension": ".py",
   "mimetype": "text/x-python",
   "name": "python",
   "nbconvert_exporter": "python",
   "pygments_lexer": "ipython3",
   "version": "3.8.8"
  }
 },
 "nbformat": 4,
 "nbformat_minor": 5
}
